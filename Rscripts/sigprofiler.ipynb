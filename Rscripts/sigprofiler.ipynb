{
 "cells": [
  {
   "cell_type": "code",
   "execution_count": 1,
   "metadata": {},
   "outputs": [],
   "source": [
    "from SigProfilerExtractor import sigpro as sig\n",
    "import pandas as pd\n",
    "from Bio.Seq import Seq\n",
    "\n",
    "#from SigProfilerMatrixGenerator import install as genInstall\n",
    "#genInstall.install(\"GRCh38\")\n",
    "path_to_example_table = sig.importdata(\"matrix\")\n",
    "data = path_to_example_table \n",
    "# This \"data\" variable can be used as a parameter of the \"project\" argument of the sigProfilerExtractor function."
   ]
  },
  {
   "cell_type": "code",
   "execution_count": 10,
   "metadata": {},
   "outputs": [],
   "source": [
    "from os import rename\n",
    "\n",
    "\n",
    "def convert_mutyper_mutation(mutation):\n",
    "    \"\"\"Convert a MuTyper mutation to a SigProfiler mutation.\"\"\"\n",
    "    if mutation[1] == 'A':\n",
    "        first = Seq(mutation[0:3]).reverse_complement()\n",
    "        second = Seq(mutation[4:7]).reverse_complement()\n",
    "        mutation = first + \">\" + second \n",
    "    c_base = mutation[1]\n",
    "    m_base = mutation[5]\n",
    "    new = f\"{mutation[0]}[{c_base}>{m_base}]{mutation[2]}\"\n",
    "    #print(mutation, new)\n",
    "    return new\n",
    "\n",
    "def read_mutyper_file(mutyper_path, tag = None, write = True):        \n",
    "    df = pd.read_csv(mutyper_path, sep=\"\\t\")\n",
    "    df.set_index(\"sample\", inplace=True)\n",
    "    df = df.transpose()\n",
    "    if tag is not None:\n",
    "        df.columns = [f\"{col}_{tag}\" for col in df.columns]\n",
    "    df.insert(0,\"Mutation Types\", df.index.to_series().apply(convert_mutyper_mutation))\n",
    "    df.sort_values(\"Mutation Types\", inplace=True)\n",
    "    df.reset_index(drop=True, inplace=True)\n",
    "    if write:\n",
    "        df.to_csv(f\"{mutyper_path}.cosmic.txt\", sep=\"\\t\", index=False)\n",
    "    return f\"{mutyper_path}.cosmic.txt\"\n",
    "\n",
    "mutyper_path = \"../data/mutyper-results-no-igc/spectra/stratify/Unique_spectra.txt\"\n",
    "unique = read_mutyper_file(mutyper_path, tag=\"Unique\")\n",
    "\n",
    "mutyper_path = \"../data/mutyper-results-no-igc/spectra/stratify/SD_spectra.txt\"\n",
    "sd = read_mutyper_file(mutyper_path, tag=\"SD\")\n",
    "\n",
    "mutyper_path = \"../data/mutyper-results-no-igc/spectra/stratify/SDnoIGC_spectra.txt\"\n",
    "sd_no_igc = read_mutyper_file(mutyper_path, tag=\"SD_no_IGC\")\n",
    "\n",
    "mutyper_path = \"../data/mutyper-results-no-igc/spectra/stratify/SDIGC_spectra.txt\"\n",
    "igc = read_mutyper_file(mutyper_path, tag=\"IGC\")\n"
   ]
  },
  {
   "cell_type": "code",
   "execution_count": 13,
   "metadata": {},
   "outputs": [
    {
     "name": "stdout",
     "output_type": "stream",
     "text": [
      "  Mutation Types  HG002_SD  HG00438_SD  HG005_SD  HG00621_SD  HG00673_SD  \\\n",
      "0        A[C>A]A      2959        2980      2871        2788        2819   \n",
      "1        A[C>A]C      2873        2715      2700        2697        2699   \n",
      "2        A[C>A]G       875         853       843         881         872   \n",
      "3        A[C>A]T      1524        1484      1476        1479        1475   \n",
      "4        A[C>G]A      2812        2749      2634        2659        2732   \n",
      "\n",
      "   HG00733_SD  HG00735_SD  HG00741_SD  HG01071_SD  ...  HG03579_SD  \\\n",
      "0        2972        3046        2855        2889  ...        2903   \n",
      "1        2828        2850        2756        2732  ...        2770   \n",
      "2         844         905         852         842  ...         831   \n",
      "3        1495        1529        1472        1511  ...        1543   \n",
      "4        2889        2886        2806        2657  ...        2747   \n",
      "\n",
      "   NA18906_SD  NA19240_SD  NA20129_SD  NA21309_SD  CHM1_SD  GRCh38_SD  \\\n",
      "0        2922        2930        2862        2807     2904       2726   \n",
      "1        2733        2753        2694        2713     2906       2572   \n",
      "2         853         864         835         871      940        796   \n",
      "3        1477        1504        1455        1437     1494       1346   \n",
      "4        2729        2724        2731        2705     2726       2390   \n",
      "\n",
      "   HG00514_SD  HG03125_SD  NA12878_SD  \n",
      "0        2834        2774        2981  \n",
      "1        2662        2616        2776  \n",
      "2         877         797         908  \n",
      "3        1509        1442        1473  \n",
      "4        2656        2590        2740  \n",
      "\n",
      "[5 rows x 53 columns]\n"
     ]
    }
   ],
   "source": [
    "#print(pd.read_csv(unique, sep=\"\\t\").head())\n",
    "print(pd.read_csv(sd, sep=\"\\t\").head())\n"
   ]
  },
  {
   "cell_type": "code",
   "execution_count": 21,
   "metadata": {},
   "outputs": [
    {
     "name": "stdout",
     "output_type": "stream",
     "text": [
      "Unique\n",
      "   HG002_Unique  HG00438_Unique  HG005_Unique\n",
      "0         55223           55398         55011\n",
      "1         53046           53193         53041\n",
      "2         13496           13451         13424\n",
      "SD\n",
      "   HG002_SD  HG00438_SD  HG005_SD\n",
      "0      2959        2980      2871\n",
      "1      2873        2715      2700\n",
      "2       875         853       843\n",
      "SD-no-IGC\n",
      "   HG002_SD_no_IGC  HG00438_SD_no_IGC  HG005_SD_no_IGC\n",
      "0             1941               1983             1870\n",
      "1             1863               1787             1752\n",
      "2              596                562              567\n",
      "IGC\n",
      "   HG002_IGC  HG00438_IGC  HG005_IGC\n",
      "0       1018          997       1001\n",
      "1       1010          928        948\n",
      "2        279          291        276\n"
     ]
    }
   ],
   "source": [
    "\n",
    "for model_name, model in {\"Unique\":unique, \"SD\":sd, \"SD-no-IGC\":sd_no_igc, \"IGC\":igc}.items():\n",
    "    print(model_name)\n",
    "    print(pd.read_csv(model, sep=\"\\t\").iloc[0:3,1:4])\n",
    "    if False:\n",
    "        sig.sigProfilerExtractor(\"matrix\",\n",
    "                                f\"sigprof_results/{model_name}\", \n",
    "                                model, \n",
    "                                reference_genome=\"GRCh38\",\n",
    "                                minimum_signatures=1,\n",
    "                                maximum_signatures=5,\n",
    "                                nmf_replicates=100,\n",
    "                                cpu=80)"
   ]
  },
  {
   "cell_type": "code",
   "execution_count": null,
   "metadata": {},
   "outputs": [],
   "source": []
  },
  {
   "cell_type": "markdown",
   "metadata": {},
   "source": []
  }
 ],
 "metadata": {
  "kernelspec": {
   "display_name": "Python 3.10.6 ('sigprof')",
   "language": "python",
   "name": "python3"
  },
  "language_info": {
   "codemirror_mode": {
    "name": "ipython",
    "version": 3
   },
   "file_extension": ".py",
   "mimetype": "text/x-python",
   "name": "python",
   "nbconvert_exporter": "python",
   "pygments_lexer": "ipython3",
   "version": "3.10.6"
  },
  "orig_nbformat": 4,
  "vscode": {
   "interpreter": {
    "hash": "0928a38979305a92f05cff62117fce826a5a90437952b06daf8d531795881448"
   }
  }
 },
 "nbformat": 4,
 "nbformat_minor": 2
}
